{
 "cells": [
  {
   "cell_type": "code",
   "execution_count": 2,
   "metadata": {},
   "outputs": [],
   "source": [
    "#from sim_funcs_1 import*\n",
    "from numba import jit,njit\n"
   ]
  },
  {
   "cell_type": "code",
   "execution_count": 3,
   "metadata": {},
   "outputs": [],
   "source": [
    "import numpy as np\n",
    "from numpy.random import choice\n",
    "import random\n",
    "import matplotlib.pyplot as plt\n",
    "from scipy.integrate import odeint \n",
    "from numba import jit\n",
    "##standing wave solution of Fisher wave\n",
    "\n",
    "def standing_wave(y0,x,D,rw):\n",
    "    w = y0[0]      ##initial value for wave profile at x =0, i.e. w(x=0)\n",
    "    z = y0[1]      ##initial value for rate of change of profile w.r.t. position x , at x=0 i.e. dw/dx(x=0)\n",
    "    dwdx = z\n",
    "    dzdx =(-2*((rw*D)**.5)*dwdx -w*rw*(1-w))/D ## fisher equation in comoving frame\n",
    "    \n",
    "    return [dwdx,dzdx]\n",
    "\n",
    "\n",
    "def initialize(K,n_allele,mu):\n",
    "    ## generate standing wave\n",
    "    stand = odeint(standing_wave,[1,-(2*2**.5)/K],np.arange(70),args=(2*2**.5,1))[:,0]\n",
    "    \n",
    "    ## cuttoff non integer cell density based off of carry capacity K\n",
    "    w_0 = (K*stand).astype(int)\n",
    "    w_0 = w_0[w_0>1]\n",
    "    \n",
    "    ## subtract wild type cells from carrying capacity to get 'emopty' particle count\n",
    "    L = np.vstack(((K-w_0),w_0)).T\n",
    "    L = np.append(L,np.zeros((len(w_0),n_allele-1)),axis=1)\n",
    "\n",
    "    ##array strucutre of an empty deme to be added on as needed \n",
    "    L_empty= np.append([K],np.zeros(n_allele,dtype=int))\n",
    "\n",
    "    ## add on some number of empty demes\n",
    "    for i in range(500):\n",
    "        L= np.append(L,[L_empty],axis=0)\n",
    "        \n",
    "    return L.astype(int), L_empty\n",
    "\n",
    "\n",
    "\n",
    "## given  ab array with counts and an array withprobabilities return index from first array\n",
    "# faster than np.random.choice for smallish arrays\n",
    "@njit\n",
    "def choice(options,probs):\n",
    "    x = np.random.rand()\n",
    "    cum = 0\n",
    "    for i,p in enumerate(probs):\n",
    "        cum += p\n",
    "        ##sum of probability must be 1\n",
    "        if x < cum:\n",
    "            break\n",
    "    return options[i]\n",
    "\n",
    "@njit\n",
    "def run_spatial(n_gen,## nunmber of gnerations\n",
    "                K, ## population size\n",
    "                landscape, ## fitness landscape (Growthrates of each genotype (should be <<1))\n",
    "                mu,\n",
    "                L_init):  ## mutation rate\n",
    "    \n",
    "    ## number of alleles in system (based of off provided landscape)\n",
    "    n_allele = len(landscape)\n",
    "\n",
    "    ##initialize probability matrix\n",
    "    #L = L_init\n",
    "    L_empty = L_init[-1]\n",
    "    L=L_init\n",
    "    P = np.ones((n_allele+1,n_allele+1))\n",
    "    P[0,1:] = 1 - landscape\n",
    "    \n",
    "    ## list of allele number - pre-established so array doesnt have to be regenerated\n",
    "    alleles = np.arange(n_allele+1)\n",
    "    \n",
    "    #slots for picked alleles each iteration to be stored, so array doesnt havent to be regerated each time\n",
    "    picks = np.array([0,0,0,0,0])\n",
    "    \n",
    "    #sstore trace history\n",
    "    L_history= np.expand_dims(L,0)\n",
    "\n",
    "        \n",
    "    for t in range(n_gen):\n",
    "        for dt in range(K):\n",
    "            \n",
    "            #number of demes with a non empty particle (+2)\n",
    "            n_demes = np.where(L[:,0]!=K)[0][-1] +2\n",
    "\n",
    "            #pick adjacent demes tobe swapped, pick demes for duplication and mutation\n",
    "            ind_1 = np.random.randint(0, n_demes)\n",
    "            if (np.random.random() < .5 and ind_1 != 0) or ind_1 == n_demes - 1:\n",
    "                ind_2 = ind_1 - 1\n",
    "            else:\n",
    "                ind_2 = ind_1 + 1\n",
    "            neighb = np.array([ind_1, ind_2])\n",
    "            dup_deme, mut_deme = np.random.randint(0,n_demes,2)\n",
    "\n",
    "\n",
    "            #dmigration: pick two cells from each of the selected demes, and swap them\n",
    "            for i in range(2):\n",
    "                picks[i] = choice(alleles, L[neighb][i]/K)\n",
    "                \n",
    "            for inds in [[0,1],[1,0]]:\n",
    "                L[neighb[inds[0]],picks[inds[0]]] -= 1\n",
    "                L[neighb[inds[0]],picks[inds[1]]] += 1\n",
    "\n",
    "\n",
    "            #duplication: pick two cells from the selected deme and echange first with copy of second according to\n",
    "            #3 probability matrix\n",
    "            for i in range(2,4):\n",
    "                picks[i] = choice(alleles,L[dup_deme]/K)\n",
    "\n",
    "            if P[picks[2],picks[3]] > np.random.random():\n",
    "                L[dup_deme,picks[2]] += 1\n",
    "                L[dup_deme,picks[3]] -= 1\n",
    "\n",
    "\n",
    "            ##mutation\n",
    "            mut_deme = np.random.randint(n_demes)\n",
    "            picks[4] = choice(alleles,L[mut_deme]/K)\n",
    "            #picks.append(choice(alleles,L[mut_deme]/K))\n",
    "            if mu>np.random.random():\n",
    "                #3 only particles that are not empty spaces and are not the 'peak' in the landscape strucutre can mutate\n",
    "                if picks[4] != n_allele and picks[4] != 0:\n",
    "                    ## mutate cell and fromat in terms of cell counts i.e. [empty cell count,...,chosen cell count]\n",
    "\n",
    "                    ##remove original cell and add mutated cell to cell counts\n",
    "                    L[mut_deme,picks[4]] -=1\n",
    "                    L[mut_deme,picks[4]+1] +=1\n",
    "            ##track how many demes are to be omitted\n",
    "            shift = 0\n",
    "            while L[0,0]<int(.02*K):\n",
    "                L=L[1:,:]\n",
    "                shift+=1\n",
    "            #if L[0,0]<int(.02*K):\n",
    "            #    shift = np.where(L[:,0]<int(.02*K))[-1][0]\n",
    "            #    L = L[shift:,:]\n",
    "            for i in range(shift):\n",
    "                L=np.append(L,np.expand_dims(L_empty,0),axis=0)\n",
    "\n",
    "\n",
    "        L_history = np.concatenate((L_history, np.expand_dims(L,0)),axis=0)\n",
    "\n",
    "    return L_history\n",
    "\n",
    "\n",
    "\n",
    "## run simulation until a fixation event occurs (fixation to some threshold 'thresh')\n",
    "\n",
    "\n",
    "@njit\n",
    "def fix_time_spatial(K, ## population size\n",
    "                     landscape, ## fitness landscape (Growthrates of each genotype (should be <<1))\n",
    "                     mu,\n",
    "                     L_init,\n",
    "                     thresh):\n",
    "     ## number of alleles in system (based of off provided landscape)\n",
    "    n_allele = len(landscape)\n",
    "\n",
    "    ##initialize probability matrix\n",
    "    #L = L_init\n",
    "    L_empty = L_init[-1]\n",
    "    L=L_init\n",
    "    P = np.ones((n_allele+1,n_allele+1))\n",
    "    P[0,1:] = 1 - landscape\n",
    "    \n",
    "    ## list of allele number - pre-established so array doesnt have to be regenerated\n",
    "    alleles = np.arange(n_allele+1)\n",
    "    \n",
    "    #slots for picked alleles each iteration to be stored, so array doesnt havent to be regerated each time\n",
    "    picks = np.array([0,0,0,0,0])\n",
    "    \n",
    "\n",
    "\n",
    "        \n",
    "    fixed=False\n",
    "    muts_arise = False\n",
    "    t = 0\n",
    "\n",
    "    while not fixed:\n",
    "            \n",
    "        #number of demes with a non empty particle (+2)\n",
    "        n_demes = np.where(L[:,0]!=K)[0][-1] +2\n",
    "\n",
    "        #pick adjacent demes tobe swapped, pick demes for duplication and mutation\n",
    "        ind_1 = np.random.randint(0, n_demes)\n",
    "        if (np.random.random() < .5 and ind_1 != 0) or ind_1 == n_demes - 1:\n",
    "            ind_2 = ind_1 - 1\n",
    "        else:\n",
    "            ind_2 = ind_1 + 1\n",
    "        neighb = np.array([ind_1, ind_2])\n",
    "        dup_deme, mut_deme = np.random.randint(0,n_demes,2)\n",
    "\n",
    "\n",
    "        #dmigration: pick two cells from each of the selected demes, and swap them\n",
    "        for i in range(2):\n",
    "            picks[i] = choice(alleles, L[neighb][i]/K)\n",
    "\n",
    "        for inds in [[0,1],[1,0]]:\n",
    "            L[neighb[inds[0]],picks[inds[0]]] -= 1\n",
    "            L[neighb[inds[0]],picks[inds[1]]] += 1\n",
    "\n",
    "\n",
    "        #duplication: pick two cells from the selected deme and echange first with copy of second according to\n",
    "        #3 probability matrix\n",
    "        for i in range(2,4):\n",
    "            picks[i] = choice(alleles,L[dup_deme]/K)\n",
    "\n",
    "        if P[picks[2],picks[3]] > np.random.random():\n",
    "            L[dup_deme,picks[2]] += 1\n",
    "            L[dup_deme,picks[3]] -= 1\n",
    "\n",
    "\n",
    "        ##mutation\n",
    "        mut_deme = np.random.randint(n_demes)\n",
    "        picks[4] = choice(alleles,L[mut_deme]/K)\n",
    "        #picks.append(choice(alleles,L[mut_deme]/K))\n",
    "        if mu>np.random.random():\n",
    "            #3 only particles that are not empty spaces and are not the 'peak' in the landscape strucutre can mutate\n",
    "            if picks[4] != n_allele and picks[4] != 0:\n",
    "                ## mutate cell and fromat in terms of cell counts i.e. [empty cell count,...,chosen cell count]\n",
    "\n",
    "                ##remove original cell and add mutated cell to cell counts\n",
    "                L[mut_deme,picks[4]] -=1\n",
    "                L[mut_deme,picks[4]+1] +=1\n",
    "        ##track how many demes are to be omitted\n",
    "        shift = 0\n",
    "        while L[0,0]<int(.02*K):\n",
    "            L=L[1:,:]\n",
    "            shift+=1\n",
    "        #if L[0,0]<int(.02*K):\n",
    "        #    shift = np.where(L[:,0]<int(.02*K))[-1][0]\n",
    "        #    L = L[shift:,:]\n",
    "        for i in range(shift):\n",
    "            L=np.append(L,np.expand_dims(L_empty,0),axis=0)\n",
    "            \n",
    "        ##check if beneficial mutant has arised, if it previously didnt exicst\n",
    "        if (np.sum(L[:,-1]) !=0) ==True and muts_arise ==False:\n",
    "            ## record time\n",
    "            arise_time = t\n",
    "        muts_arise = (np.sum(L[:,-1]) !=0)\n",
    "        ## check if fixed\n",
    "        fixed = np.sum(L[:,1:n_allele])==0\n",
    "        t+=1\n",
    "\n",
    "\n",
    "\n",
    "    return L, arise_time\n",
    "\n",
    "\n",
    "\n",
    "\n",
    "#Run the automaton\n",
    "#Implements cell division. The division rates are based on the experimental data\n",
    "\n",
    "def run_mixed(n_gen,fit_land,  # number of genetaions Fitness landscape (growth rates - should be <<1)\n",
    "                  mut_rate=0.1,  # probability of mutation per generation\n",
    "                  max_cells=10**5,  # Max number of cells \n",
    "                  init_counts=None,\n",
    "                  thresh = .02\n",
    "                  ):\n",
    "    \n",
    "    # Obtain transition matrix for mutations\n",
    "\n",
    "    # Number of different alleles\n",
    "    n_allele = len(fit_land)\n",
    "    # Keeps track of cell counts at each generation\n",
    "    \n",
    "    P = np.ones((n_allele+1,n_allele+1))\n",
    "    P[0,1:] = 1 - fit_land\n",
    "\n",
    "    if init_counts is None:\n",
    "        counts = np.zeros(n_allele+1)\n",
    "        counts[1] = 10\n",
    "    else:\n",
    "        counts = init_counts\n",
    "    counts= counts.astype(int)\n",
    "    fixed = False\n",
    "    t = 0\n",
    "    count_history = []\n",
    "    for gen in range(n_gen):\n",
    "\n",
    "        n_cells = np.sum( counts )\n",
    "\n",
    "        # Scale division rates based on carrying capacity\n",
    "\n",
    "        cell_types =  np.repeat(np.arange(n_allele+1),counts)\n",
    "        cell_types = duplication(cell_types,max_cells,P)\n",
    "        cell_types = mutation(cell_types,mut_rate,max_cells,n_allele)\n",
    "        counts = np.bincount(cell_types, minlength=n_allele+1)\n",
    "\n",
    "\n",
    "        count_history.append(counts) \n",
    "    return count_history\n",
    "#Run the automaton\n",
    "#Implements cell division. The division rates are based on the experimental data\n",
    "\n",
    "def fix_time_mixed(fit_land,  # Fitness landscape\n",
    "                  mut_rate=0.1,  # probability of mutation per generation\n",
    "                  max_cells=10**5,  # Max number of cells \n",
    "                  init_counts=None,\n",
    "                  thresh = .9\n",
    "                  ):\n",
    "\n",
    "    # Obtain transition matrix for mutations\n",
    "\n",
    "    # Number of different alleles\n",
    "    n_allele = len(fit_land)\n",
    "    # Keeps track of cell counts at each generation\n",
    "    \n",
    "    P = np.ones((n_allele+1,n_allele+1))\n",
    "    P[0,1:] = 1 - fit_land\n",
    "\n",
    "    if init_counts is None:\n",
    "        counts = np.zeros(n_allele+1)\n",
    "        counts[1] = 10\n",
    "    else:\n",
    "        if sum(init_counts) !=max_cells:\n",
    "            raise 'sum of initial counts must be equal to carrying capactiy'\n",
    "        counts = init_counts\n",
    "    counts= counts.astype(int)\n",
    "    fixed = False\n",
    "    t = 0\n",
    "    muts= 0\n",
    "    muts_arise =False\n",
    "    while not fixed:\n",
    "\n",
    "        n_cells = np.sum( counts )\n",
    "\n",
    "        # Scale division rates based on carrying capacity\n",
    "            \n",
    "        cell_types =  np.repeat(np.arange(n_allele+1),counts)\n",
    "        cell_types = duplication(cell_types,max_cells,P)\n",
    "        cell_types = mutation(cell_types,mut_rate,max_cells,n_allele)\n",
    "        counts = np.bincount(cell_types, minlength=n_allele+1)\n",
    "       \n",
    "\n",
    "        t+=1\n",
    "        if (counts[-1] !=0) ==True and muts_arise ==False:\n",
    "            arise_time = t\n",
    "        muts_arise = (counts[-1] !=0)\n",
    "        fixed = counts[-1]> (thresh*max_cells)\n",
    "    return counts, t,arise_time\n",
    "\n",
    "    \n"
   ]
  },
  {
   "cell_type": "code",
   "execution_count": 152,
   "metadata": {},
   "outputs": [
    {
     "name": "stdout",
     "output_type": "stream",
     "text": [
      "CPU times: user 4.49 s, sys: 3.31 s, total: 7.8 s\n",
      "Wall time: 8.44 s\n"
     ]
    }
   ],
   "source": [
    "%%time \n",
    "K=100\n",
    "landscape= np.array([.1,.0999,.11])\n",
    "n_allele  = len(landscape)\n",
    "\n",
    "\n",
    "mu = 0\n",
    "L_trace = run_spatial(1000,100,np.array([.1,.0999,.11]),mu,initialize(K,n_allele,mu)[0])"
   ]
  },
  {
   "cell_type": "code",
   "execution_count": 8,
   "metadata": {},
   "outputs": [
    {
     "name": "stdout",
     "output_type": "stream",
     "text": [
      "CPU times: user 52.3 s, sys: 537 ms, total: 52.8 s\n",
      "Wall time: 55.1 s\n"
     ]
    }
   ],
   "source": [
    "%%time \n",
    "K=100\n",
    "landscape= np.array([.1,.0999,.11])\n",
    "n_allele  = len(landscape)\n",
    "\n",
    "\n",
    "mu = .0001\n",
    "L_trace,t = fix_time_spatial(K,landscape,mu,initialize(K,n_allele,mu)[0],.02)"
   ]
  },
  {
   "cell_type": "code",
   "execution_count": 9,
   "metadata": {},
   "outputs": [
    {
     "data": {
      "text/plain": [
       "[<matplotlib.lines.Line2D at 0x15235d7898>,\n",
       " <matplotlib.lines.Line2D at 0x15235d75c0>,\n",
       " <matplotlib.lines.Line2D at 0x15235d7c88>,\n",
       " <matplotlib.lines.Line2D at 0x15235d77b8>]"
      ]
     },
     "execution_count": 9,
     "metadata": {},
     "output_type": "execute_result"
    },
    {
     "data": {
      "image/png": "[encoded data removed]",
      "text/plain": [
       "<Figure size 432x288 with 1 Axes>"
      ]
     },
     "metadata": {
      "needs_background": "light"
     },
     "output_type": "display_data"
    }
   ],
   "source": [
    "plt.plot(L_trace)"
   ]
  },
  {
   "cell_type": "code",
   "execution_count": 76,
   "metadata": {},
   "outputs": [],
   "source": [
    "import numpy as np\n",
    "from numpy.random import choice\n",
    "import random\n",
    "import matplotlib.pyplot as plt\n",
    "from scipy.integrate import odeint \n",
    "from numba import jit\n",
    "##standing wave solution of Fisher wave\n",
    "\n",
    "\n",
    "## given  ab array with counts and an array withprobabilities return index from first array\n",
    "# faster than np.random.choice for smallish arrays\n",
    "\n",
    "def choice(options,probs):\n",
    "    x = np.random.rand()\n",
    "    cum = 0\n",
    "    for i,p in enumerate(probs):\n",
    "        cum += p\n",
    "        ##sum of probability must be 1\n",
    "        if x < cum:\n",
    "            break\n",
    "    return options[i]\n",
    "\n",
    "\n",
    "##generate a standing wave solution of fisher equations - i.e. an 'established' wave front\n",
    "\n",
    "def standing_wave(y0,x,D,rw):\n",
    "    w = y0[0]      ##initial value for wave profile at x =0, i.e. w(x=0)\n",
    "    z = y0[1]      ##initial value for rate of change of profile w.r.t. position x , at x=0 i.e. dw/dx(x=0)\n",
    "    dwdx = z\n",
    "    dzdx =(-2*((rw*D)**.5)*dwdx -w*rw*(1-w))/D ## fisher equation in comoving frame\n",
    "    \n",
    "    return [dwdx,dzdx]\n",
    "\n",
    "### given a deme return that deme and a random neighbor\n",
    "\n",
    "def rand_neighbors(n_demes):\n",
    "    ind_1 = np.random.randint(0, n_demes)\n",
    "    if (np.random.random() < .5 and ind_1 != 0) or ind_1 == n_demes - 1:\n",
    "        ind_2 = ind_1 - 1\n",
    "    else:\n",
    "        ind_2 = ind_1 + 1\n",
    "    return np.array([ind_1, ind_2])\n",
    "\n",
    "\n",
    "##convert array of cell counts for each fitness\n",
    "## to an array for each cell with its identity (fitness)\n",
    "\n",
    "def counts_to_cells(counts,n_allele):\n",
    "    cells = np.repeat(np.arange(n_allele+1),counts)\n",
    "    return cells\n",
    "\n",
    "##convert array of each cell with its identity (fitness)cell counts for each fitness\n",
    "## to an array of cell counts for each fitness  \n",
    "\n",
    "def cells_to_counts(cells,n_allele):\n",
    "    counts = np.bincount(cells, minlength=n_allele+1)\n",
    "    return counts\n",
    "\n",
    "\n",
    "## initialize array of number of spaces and number wild type cells for each deme \n",
    "##using standing wave solution. \n",
    "\n",
    "def initialize(K,n_allele,mu):\n",
    "    ## generate standing wave\n",
    "    stand = odeint(standing_wave,[1,-(2*2**.5)/K],np.arange(70),args=(2*2**.5,1))[:,0]\n",
    "    ## cuttoff non integer cell density based off of carry capacity K\n",
    "\n",
    "    w_0 = (K*stand).astype(int)\n",
    "    w_0 = w_0[w_0>1]\n",
    "    ## subtract wild type cells from carrying capacity to get 'emopty' particle count\n",
    "    L = np.vstack(((K-w_0),w_0)).T\n",
    "    L = np.append(L,np.zeros((len(w_0),n_allele-1)),axis=1)\n",
    "\n",
    "\n",
    "\n",
    "    ##array strucutre of an empty deme to be added on as needed \n",
    "    L_empty= np.append([K],np.zeros(n_allele,dtype=int))\n",
    "\n",
    "    ## add on some number of empty demes\n",
    "    for i in range(140):\n",
    "        L= np.append(L,[L_empty],axis=0)\n",
    "    return L.astype(int), L_empty\n",
    " \n",
    "## take two neighboring demes, pick a particle from each and exchange them    \n",
    "\n",
    "\n",
    "def migration(cell_counts,n_allele,K):\n",
    "    empty_cnt = np.zeros((2,n_allele+1)).astype(int)\n",
    "    \n",
    "    for i in range(2):\n",
    "        empty_cnt[i,choice(np.arange(n_allele+1), cell_counts[i]/K)] =int(1)\n",
    "        \n",
    "        \n",
    "    for i,j in enumerate(range(2)[::-1]):\n",
    "        cell_counts[i]+=(empty_cnt[j] -empty_cnt[i])\n",
    "        \n",
    "    return cell_counts\n",
    "\n",
    "\n",
    "#from one chosen deme pick two cells and exchange the first with second one with some proability\n",
    "\n",
    "def duplication(cell_counts,K,P,n_allele):\n",
    "\n",
    "    #pick two cells randomly from chosen deme. yes, i know i use list.append but np append was slower\n",
    "    ## when i timed it \n",
    "    picks = []\n",
    "    for i in range(2):\n",
    "\n",
    "        picks.append(choice(np.arange(n_allele+1),\n",
    "                          cell_counts/np.sum(cell_counts)))\n",
    "            \n",
    "    ## format chosen cells in terms of cell counts i.e. [empty cell count,...,chosen cell count]\n",
    "    empty_cnt = np.zeros((2,n_allele+1)).astype(int)\n",
    "    empty_cnt[:,picks] =1\n",
    "    \n",
    "    if all(picks)!=0:\n",
    "        cell_counts += (empty_cnt[0] - empty_cnt[1])\n",
    "    else:\n",
    "            \n",
    "        if P[tuple(picks)]> np.random.random():\n",
    "            cell_counts += (empty_cnt[0] - empty_cnt[1])\n",
    "    return cell_counts\n",
    "\n",
    "\n",
    "\n",
    "\n",
    "    \n",
    "## from randomly chosen deme pick random cell and give it a mutation (change its genotype) with\n",
    "## some probability\n",
    "\n",
    "\n",
    "\n",
    "def mutation(cell_counts,mu,n_allele):\n",
    "    empty_cnt= np.zeros(n_allele+1).astype(int)\n",
    "    empty_cnt[choice(np.arange(n_allele+1),\n",
    "                          cell_counts/np.sum(cell_counts))] =1\n",
    "    \n",
    "    if mu>np.random.random():\n",
    "        #3 only particles that are not empty spaces and are not the 'peak' in the landscape strucutre can mutate\n",
    "        if any(np.arange(n_allele+1)[1:-1])==np.nonzero(np.array([0,1,0]))[0]:\n",
    "            ## mutate cell and fromat in terms of cell counts i.e. [empty cell count,...,chosen cell count]\n",
    "\n",
    "            ##remove original cell and add mutated cell to cell counts\n",
    "            cell_counts += np.append(np.array([0]),empty_cnt[:-1],axis=0) - empty_cnt \n",
    "    return cell_counts\n",
    "\n",
    "\n",
    "## shift simulation box\n",
    "\n",
    "def recenter(L,L_empty, K):\n",
    "    shift = 0\n",
    "    ##track how many demes are to be omitted\n",
    "    while L[0,0]<int(.02*K):\n",
    "        L=L[1:,:]\n",
    "        shift+=1\n",
    "\n",
    "    #for each dropped deme, add one\n",
    "    for i in range(shift):\n",
    "        L=np.append(L,[L_empty],axis=0)\n",
    "    return L\n",
    "\n",
    "\n",
    "## one update setp includes on migration, duplication and mutation step \n",
    "\n",
    "def update(L, ## population\n",
    "    L_empty, ## empty deme structure\n",
    "    P, ## porbability matrix for mutation\n",
    "    K, # population size\n",
    "    n_allele, ## length of landsacpe\n",
    "    mu): ##mutation rate\n",
    "        #L_tip = np.where(L[:,0]!=K)[0][-1]\n",
    "        \n",
    "\n",
    "        return L\n",
    "## run simulation for chosen number of generation\n",
    "\n",
    "def run_spatial(n_gen,## nunmber of gnerations\n",
    "    K, ## population size\n",
    "    landscape ## fitness landscape (Growthrates of each genotype (should be <<1))\n",
    "    ,mu):  ## mutation rate\n",
    "\n",
    "    n_allele = len(landscape)\n",
    "\n",
    "    ##initialize probability matrix\n",
    "    stand = odeint(standing_wave,[1,-(2*2**.5)/K],np.arange(70),args=(2*2**.5,1))[:,0]\n",
    "    P = np.ones((n_allele+1,n_allele+1))\n",
    "    P[0,1:] = 1 - landscape\n",
    "    ## cuttoff non integer cell density based off of carry capacity K\n",
    "    w_0 = (K*stand).astype(int)\n",
    "    w_0 = w_0[w_0>1]\n",
    "    \n",
    "    ## subtract wild type cells from carrying capacity to get 'emopty' particle count\n",
    "    L = np.vstack(((K-w_0),w_0)).T\n",
    "    L = np.append(L,np.zeros((len(w_0),n_allele-1)),axis=1)\n",
    "    \n",
    "    ##array strucutre of an empty deme to be added on as needed \n",
    "    L_empty= np.append([K],np.zeros(n_allele,dtype=int))\n",
    "\n",
    "    ## add on some number of empty demes\n",
    "    \n",
    "    for i in range(500):\n",
    "        L= np.append(L,[L_empty],axis=0)\n",
    "    L_history=[L]\n",
    "    \n",
    "    #begin evolution\n",
    "    alleles = np.arange(n_allele+1)\n",
    "    picks = np.zeros(5).astype(int)\n",
    "    rands = np.random.random(10**6)\n",
    "    rands1 =np.random.random(10**6)\n",
    "    rnd = 0\n",
    "    for t in range(n_gen):\n",
    "        for dt in range(K):\n",
    "            #fill randoms\n",
    "            if (rnd % 10**6)==0:\n",
    "                rands = np.random.random(10**6)\n",
    "                rands1 = np.random.random(10**6)\n",
    "                rnd=0\n",
    "            \n",
    "            #pick random neighbors\n",
    "            n_demes = np.where(L[:,0]!=K)[0][-1] +2\n",
    "            ind_1 = np.random.randint(0, n_demes)\n",
    "            if (rands[rnd] < .5 and ind_1 != 0) or ind_1 == n_demes - 1:\n",
    "                ind_2 = ind_1 - 1\n",
    "            else:\n",
    "                ind_2 = ind_1 + 1\n",
    "            neighb = np.array([ind_1, ind_2])\n",
    "            \n",
    "            #picks two demes at random for dup, and mut\n",
    "            dup_deme, mut_deme = np.random.randint(0,n_demes,2)\n",
    "\n",
    "\n",
    "            ##migration: pick a particle from two neighboring demes and exchange it\n",
    "            picks[0] = choice(alleles, L[neighb][0]/K)\n",
    "            picks[1] = choice(alleles, L[neighb][1]/K)\n",
    "            L[neighb[0],picks[0]] -= 1\n",
    "            L[neighb[0],picks[1]] += 1\n",
    "            L[neighb[1],picks[1]] -= 1\n",
    "            L[neighb[1],picks[0]] += 1\n",
    "            \n",
    "\n",
    "            picks[2] = choice(alleles,L[dup_deme]/K) \n",
    "            picks[3] = choice(alleles,L[dup_deme]/K) \n",
    "            if P[tuple(picks[2:4])] > np.random.random():\n",
    "                L[dup_deme,picks[2]] += 1\n",
    "                L[dup_deme,picks[3]] -= 1\n",
    "\n",
    "\n",
    "\n",
    "            ##mutation\n",
    "            mut_deme = np.random.randint(n_demes)\n",
    "            picks[4] = choice(alleles,L[mut_deme]/K)\n",
    "            #picks.append(choice(alleles,L[mut_deme]/K))\n",
    "                        ##fill randoms\n",
    " \n",
    "            \n",
    "            if mu>rands1[rnd]:\n",
    "                #3 only particles that are not empty spaces and are not the 'peak' in the landscape strucutre can mutate\n",
    "                if picks[4] != n_allele and picks[4] != 0:\n",
    "                    ## mutate cell and fromat in terms of cell counts i.e. [empty cell count,...,chosen cell count]\n",
    "\n",
    "                    ##remove original cell and add mutated cell to cell counts\n",
    "                    L[mut_deme,picks[4]] -=1\n",
    "                    L[mut_deme,picks[4]+1] +=1\n",
    "\n",
    "            ##track how many demes are to be omitted\n",
    "            if L[0,0]<int(.02*K):\n",
    "                shift = np.where(L[:,0]<int(.02*K))[-1][0]\n",
    "                for i in range(shift):\n",
    "                    L=np.append(L,[L_empty],axis=0)\n",
    "\n",
    "                    ##recenter simulation box\n",
    "\n",
    "                ##save\n",
    "            rnd+=1\n",
    "        L_history.append(L)\n",
    "            \n",
    "    return L\n",
    "\n",
    "## run simulation until a fixation event occurs (fixation to some threshold 'thresh')\n",
    "\n",
    "def fix_time_spatial(K,landscape,mu,thresh):\n",
    "    n_allele = len(landscape)\n",
    "    func_args = [K,n_allele,mu]\n",
    "    ##initialize probability matrix\n",
    "    P = np.ones((n_allele+1,n_allele+1))\n",
    "    P[0,1:] = 1 - landscape\n",
    "    ##initallize population\n",
    "    L,L_empty = initialize(*func_args)\n",
    "    init_pop = np.sum(L[:,1])\n",
    "    L_history=[L]\n",
    "    #mutant has not yet fixed\n",
    "    fixed=False\n",
    "\n",
    "    t = 0\n",
    "\n",
    "    while not fixed:\n",
    "        # perform on esimulation step\n",
    "        L = update(L,L_empty,P,*func_args)\n",
    "        ## move simulation box\n",
    "        L = recenter(L,L_empty,K)\n",
    "\n",
    "        ##check if beneficial mutant has arised, if it previously didnt exicst\n",
    "        if (np.sum(L[:,-1]) !=0) ==True and muts_arise ==False:\n",
    "            ## record time\n",
    "            arise_time = t\n",
    "        muts_arise = (np.sum(L[:,-1]) !=0)\n",
    "        ## check if fixed\n",
    "        fixed = np.sum(L[:,1:n_allele])<(thresh*init_pop)\n",
    "        t+=1\n",
    "    try:\n",
    "        return L,t, arise_time\n",
    "    except:\n",
    "        return L,t\n",
    "\n",
    "\n",
    "\n",
    "\n",
    "#Run the automaton\n",
    "#Implements cell division. The division rates are based on the experimental data\n",
    "\n",
    "def run_mixed(n_gen,fit_land,  # number of genetaions Fitness landscape (growth rates - should be <<1)\n",
    "                  mut_rate=0.1,  # probability of mutation per generation\n",
    "                  max_cells=10**5,  # Max number of cells \n",
    "                  init_counts=None,\n",
    "                  thresh = .02\n",
    "                  ):\n",
    "    \n",
    "    # Obtain transition matrix for mutations\n",
    "\n",
    "    # Number of different alleles\n",
    "    n_allele = len(fit_land)\n",
    "    # Keeps track of cell counts at each generation\n",
    "    \n",
    "    P = np.ones((n_allele+1,n_allele+1))\n",
    "    P[0,1:] = 1 - fit_land\n",
    "\n",
    "    if init_counts is None:\n",
    "        counts = np.zeros(n_allele+1)\n",
    "        counts[1] = 10\n",
    "    else:\n",
    "        counts = init_counts\n",
    "    counts= counts.astype(int)\n",
    "    fixed = False\n",
    "    t = 0\n",
    "    count_history = []\n",
    "    for gen in range(n_gen):\n",
    "\n",
    "        n_cells = np.sum( counts )\n",
    "\n",
    "        # Scale division rates based on carrying capacity\n",
    "\n",
    "        cell_types =  np.repeat(np.arange(n_allele+1),counts)\n",
    "        cell_types = duplication(cell_types,max_cells,P)\n",
    "        cell_types = mutation(cell_types,mut_rate,max_cells,n_allele)\n",
    "        counts = np.bincount(cell_types, minlength=n_allele+1)\n",
    "\n",
    "\n",
    "        count_history.append(counts)\n",
    "    return count_history\n",
    "#Run the automaton\n",
    "#Implements cell division. The division rates are based on the experimental data\n",
    "\n",
    "def fix_time_mixed(fit_land,  # Fitness landscape\n",
    "                  mut_rate=0.1,  # probability of mutation per generation\n",
    "                  max_cells=10**5,  # Max number of cells \n",
    "                  init_counts=None,\n",
    "                  thresh = .9\n",
    "                  ):\n",
    "\n",
    "    # Obtain transition matrix for mutations\n",
    "\n",
    "    # Number of different alleles\n",
    "    n_allele = len(fit_land)\n",
    "    # Keeps track of cell counts at each generation\n",
    "    \n",
    "    P = np.ones((n_allele+1,n_allele+1))\n",
    "    P[0,1:] = 1 - fit_land\n",
    "\n",
    "    if init_counts is None:\n",
    "        counts = np.zeros(n_allele+1)\n",
    "        counts[1] = 10\n",
    "    else:\n",
    "        if sum(init_counts) !=max_cells:\n",
    "            raise 'sum of initial counts must be equal to carrying capactiy'\n",
    "        counts = init_counts\n",
    "    counts= counts.astype(int)\n",
    "    fixed = False\n",
    "    t = 0\n",
    "    muts= 0\n",
    "    muts_arise =False\n",
    "    while not fixed:\n",
    "\n",
    "        n_cells = np.sum( counts )\n",
    "\n",
    "        # Scale division rates based on carrying capacity\n",
    "            \n",
    "        cell_types =  np.repeat(np.arange(n_allele+1),counts)\n",
    "        cell_types = duplication(cell_types,max_cells,P)\n",
    "        cell_types = mutation(cell_types,mut_rate,max_cells,n_allele)\n",
    "        counts = np.bincount(cell_types, minlength=n_allele+1)\n",
    "       \n",
    "\n",
    "        t+=1\n",
    "        if (counts[-1] !=0) ==True and muts_arise ==False:\n",
    "            arise_time = t\n",
    "        muts_arise = (counts[-1] !=0)\n",
    "        fixed = counts[-1]> (thresh*max_cells)\n",
    "    return counts, t,arise_time\n",
    "\n",
    "    \n"
   ]
  },
  {
   "cell_type": "code",
   "execution_count": 45,
   "metadata": {},
   "outputs": [
    {
     "data": {
      "text/plain": [
       "(3, 527, 4)"
      ]
     },
     "execution_count": 45,
     "metadata": {},
     "output_type": "execute_result"
    }
   ],
   "source": [
    "tuple(np.append(3,L_trace.shape))"
   ]
  },
  {
   "cell_type": "code",
   "execution_count": 77,
   "metadata": {},
   "outputs": [
    {
     "name": "stdout",
     "output_type": "stream",
     "text": [
      "CPU times: user 23.1 s, sys: 66.3 ms, total: 23.1 s\n",
      "Wall time: 23.3 s\n"
     ]
    }
   ],
   "source": [
    "%%time\n",
    "K=100\n",
    "landscape= np.array([.1,.0999,.11])\n",
    "n_allele  = len(landscape)\n",
    "\n",
    "\n",
    "mu = .01\n",
    "L_trace = run_spatial(5000,100,np.array([.1,.0999,.11]),mu)"
   ]
  },
  {
   "cell_type": "code",
   "execution_count": 54,
   "metadata": {},
   "outputs": [
    {
     "name": "stdout",
     "output_type": "stream",
     "text": [
      "The snakeviz extension is already loaded. To reload it, use:\n",
      "  %reload_ext snakeviz\n"
     ]
    }
   ],
   "source": [
    "%load_ext snakeviz"
   ]
  },
  {
   "cell_type": "code",
   "execution_count": 55,
   "metadata": {},
   "outputs": [
    {
     "name": "stdout",
     "output_type": "stream",
     "text": [
      " \n",
      "*** Profile stats marshalled to file '/var/folders/bf/7p_phqf17mn465s07y0y818r0000gn/T/tmp49ixw7wg'. \n",
      "Embedding SnakeViz in the notebook...\n"
     ]
    },
    {
     "data": {
      "text/html": [
       "\n",
       "<iframe id='snakeviz-532f67b6-5b40-11ea-9d82-f018981538e4' frameborder=0 seamless width='100%' height='1000'></iframe>\n",
       "<script>$(\"#snakeviz-532f67b6-5b40-11ea-9d82-f018981538e4\").attr({src:\"http://\"+document.location.hostname+\":55762/snakeviz/%2Fvar%2Ffolders%2Fbf%2F7p_phqf17mn465s07y0y818r0000gn%2FT%2Ftmp49ixw7wg\"})</script>\n"
      ],
      "text/plain": [
       "<IPython.core.display.HTML object>"
      ]
     },
     "metadata": {},
     "output_type": "display_data"
    }
   ],
   "source": [
    "%%snakeviz\n",
    "K=100\n",
    "landscape= np.array([.1,.0999,.11])\n",
    "n_allele  = len(landscape)\n",
    "\n",
    "\n",
    "mu = .001\n",
    "L_trace = run_spatial(10000,100,np.array([.1,.0999,.11]),mu)"
   ]
  },
  {
   "cell_type": "code",
   "execution_count": 37,
   "metadata": {},
   "outputs": [
    {
     "data": {
      "text/plain": [
       "1000000"
      ]
     },
     "execution_count": 37,
     "metadata": {},
     "output_type": "execute_result"
    }
   ],
   "source": [
    "10000*100"
   ]
  },
  {
   "cell_type": "code",
   "execution_count": 460,
   "metadata": {},
   "outputs": [],
   "source": [
    "import numpy as np\n",
    "from numpy.random import choice\n",
    "import random\n",
    "import matplotlib.pyplot as plt\n",
    "from scipy.integrate import odeint \n",
    "from numba import jit\n",
    "##standing wave solution of Fisher wave\n",
    "\n",
    "\n",
    "## given  ab array with counts and an array withprobabilities return index from first array\n",
    "# faster than np.random.choice for smallish arrays\n",
    "\n",
    "def choice(options,probs):\n",
    "    x = np.random.rand()\n",
    "    cum = 0\n",
    "    for i,p in enumerate(probs):\n",
    "        cum += p\n",
    "        ##sum of probability must be 1\n",
    "        if x < cum:\n",
    "            break\n",
    "    return options[i]\n",
    "\n",
    "\n",
    "##generate a standing wave solution of fisher equations - i.e. an 'established' wave front\n",
    "\n",
    "def standing_wave(y0,x,D,rw):\n",
    "    w = y0[0]      ##initial value for wave profile at x =0, i.e. w(x=0)\n",
    "    z = y0[1]      ##initial value for rate of change of profile w.r.t. position x , at x=0 i.e. dw/dx(x=0)\n",
    "    dwdx = z\n",
    "    dzdx =(-2*((rw*D)**.5)*dwdx -w*rw*(1-w))/D ## fisher equation in comoving frame\n",
    "    \n",
    "    return [dwdx,dzdx]\n",
    "\n",
    "### given a deme return that deme and a random neighbor\n",
    "\n",
    "def rand_neighbors(n_demes):\n",
    "    ind_1 = np.random.randint(0, n_demes)\n",
    "    if (np.random.random() < .5 and ind_1 != 0) or ind_1 == n_demes - 1:\n",
    "        ind_2 = ind_1 - 1\n",
    "    else:\n",
    "        ind_2 = ind_1 + 1\n",
    "    return np.array([ind_1, ind_2])\n",
    "\n",
    "\n",
    "##convert array of cell counts for each fitness\n",
    "## to an array for each cell with its identity (fitness)\n",
    "\n",
    "def counts_to_cells(counts,n_allele):\n",
    "    cells = np.repeat(np.arange(n_allele+1),counts)\n",
    "    return cells\n",
    "\n",
    "##convert array of each cell with its identity (fitness)cell counts for each fitness\n",
    "## to an array of cell counts for each fitness  \n",
    "\n",
    "def cells_to_counts(cells,n_allele):\n",
    "    counts = np.bincount(cells, minlength=n_allele+1)\n",
    "    return counts\n",
    "\n",
    "\n",
    "## initialize array of number of spaces and number wild type cells for each deme \n",
    "##using standing wave solution. \n",
    "\n",
    "def initialize(K,n_allele,mu):\n",
    "    ## generate standing wave\n",
    "    stand = odeint(standing_wave,[1,-(2*2**.5)/K],np.arange(70),args=(2*2**.5,1))[:,0]\n",
    "    ## cuttoff non integer cell density based off of carry capacity K\n",
    "\n",
    "    w_0 = (K*stand).astype(int)\n",
    "    w_0 = w_0[w_0>1]\n",
    "    ## subtract wild type cells from carrying capacity to get 'emopty' particle count\n",
    "    L = np.vstack(((K-w_0),w_0)).T\n",
    "    L = np.append(L,np.zeros((len(w_0),n_allele-1)),axis=1)\n",
    "\n",
    "\n",
    "\n",
    "    ##array strucutre of an empty deme to be added on as needed \n",
    "    L_empty= np.append([K],np.zeros(n_allele,dtype=int))\n",
    "\n",
    "    ## add on some number of empty demes\n",
    "    for i in range(140):\n",
    "        L= np.append(L,[L_empty],axis=0)\n",
    "    return L.astype(int), L_empty\n",
    " \n",
    "## take two neighboring demes, pick a particle from each and exchange them    \n",
    "\n",
    "\n",
    "def migration(cell_counts,n_allele,K):\n",
    "    empty_cnt = np.zeros((2,n_allele+1)).astype(int)\n",
    "    \n",
    "    for i in range(2):\n",
    "        empty_cnt[i,choice(np.arange(n_allele+1), cell_counts[i]/K)] =int(1)\n",
    "        \n",
    "        \n",
    "    for i,j in enumerate(range(2)[::-1]):\n",
    "        cell_counts[i]+=(empty_cnt[j] -empty_cnt[i])\n",
    "        \n",
    "    return cell_counts\n",
    "\n",
    "\n",
    "#from one chosen deme pick two cells and exchange the first with second one with some proability\n",
    "\n",
    "def duplication(cell_counts,K,P,n_allele):\n",
    "\n",
    "    #pick two cells randomly from chosen deme. yes, i know i use list.append but np append was slower\n",
    "    ## when i timed it \n",
    "    picks = []\n",
    "    for i in range(2):\n",
    "\n",
    "        picks.append(choice(np.arange(n_allele+1),\n",
    "                          cell_counts/np.sum(cell_counts)))\n",
    "            \n",
    "    ## format chosen cells in terms of cell counts i.e. [empty cell count,...,chosen cell count]\n",
    "    empty_cnt = np.zeros((2,n_allele+1)).astype(int)\n",
    "    empty_cnt[:,picks] =1\n",
    "    \n",
    "    if all(picks)!=0:\n",
    "        cell_counts += (empty_cnt[0] - empty_cnt[1])\n",
    "    else:\n",
    "            \n",
    "        if P[tuple(picks)]> np.random.random():\n",
    "            cell_counts += (empty_cnt[0] - empty_cnt[1])\n",
    "    return cell_counts\n",
    "\n",
    "\n",
    "\n",
    "\n",
    "    \n",
    "## from randomly chosen deme pick random cell and give it a mutation (change its genotype) with\n",
    "## some probability\n",
    "\n",
    "\n",
    "\n",
    "def mutation(cell_counts,mu,n_allele):\n",
    "    empty_cnt= np.zeros(n_allele+1).astype(int)\n",
    "    empty_cnt[choice(np.arange(n_allele+1),\n",
    "                          cell_counts/np.sum(cell_counts))] =1\n",
    "    \n",
    "    if mu>np.random.random():\n",
    "        #3 only particles that are not empty spaces and are not the 'peak' in the landscape strucutre can mutate\n",
    "        if any(np.arange(n_allele+1)[1:-1])==np.nonzero(np.array([0,1,0]))[0]:\n",
    "            ## mutate cell and fromat in terms of cell counts i.e. [empty cell count,...,chosen cell count]\n",
    "\n",
    "            ##remove original cell and add mutated cell to cell counts\n",
    "            cell_counts += np.append(np.array([0]),empty_cnt[:-1],axis=0) - empty_cnt \n",
    "    return cell_counts\n",
    "\n",
    "\n",
    "## shift simulation box\n",
    "\n",
    "def recenter(L,L_empty, K):\n",
    "    shift = 0\n",
    "    ##track how many demes are to be omitted\n",
    "    while L[0,0]<int(.02*K):\n",
    "        L=L[1:,:]\n",
    "        shift+=1\n",
    "\n",
    "    #for each dropped deme, add one\n",
    "    for i in range(shift):\n",
    "        L=np.append(L,[L_empty],axis=0)\n",
    "    return L\n",
    "\n",
    "\n",
    "## one update setp includes on migration, duplication and mutation step \n",
    "\n",
    "def update(L, ## population\n",
    "    L_empty, ## empty deme structure\n",
    "    P, ## porbability matrix for mutation\n",
    "    K, # population size\n",
    "    n_allele, ## length of landsacpe\n",
    "    mu): ##mutation rate\n",
    "        #L_tip = np.where(L[:,0]!=K)[0][-1]\n",
    "        \n",
    "\n",
    "        return L\n",
    "## run simulation for chosen number of generation\n",
    "\n",
    "def run_spatial(n_gen,## nunmber of gnerations\n",
    "    K, ## population size\n",
    "    landscape ## fitness landscape (Growthrates of each genotype (should be <<1))\n",
    "    ,mu):  ## mutation rate\n",
    "\n",
    "    n_allele = len(landscape)\n",
    "\n",
    "    ##initialize probability matrix\n",
    "    stand = odeint(standing_wave,[1,-(2*2**.5)/K],np.arange(70),args=(2*2**.5,1))[:,0]\n",
    "    P = np.ones((n_allele+1,n_allele+1))\n",
    "    P[0,1:] = 1 - landscape\n",
    "    ## cuttoff non integer cell density based off of carry capacity K\n",
    "    w_0 = (K*stand).astype(int)\n",
    "    w_0 = w_0[w_0>1]\n",
    "    \n",
    "    ## subtract wild type cells from carrying capacity to get 'emopty' particle count\n",
    "    L = np.vstack(((K-w_0),w_0)).T\n",
    "    L = np.append(L,np.zeros((len(w_0),n_allele-1)),axis=1)\n",
    "    \n",
    "    ##array strucutre of an empty deme to be added on as needed \n",
    "    L_empty= np.append([K],np.zeros(n_allele,dtype=int))\n",
    "\n",
    "    ## add on some number of empty demes\n",
    "    \n",
    "    for i in range(500):\n",
    "        L= np.append(L,[L_empty],axis=0)\n",
    "    L_history=[L]\n",
    "    L_0=np.zeros(L.shape).astype(int)\n",
    "    #begin evolution\n",
    "    alleles = np.arange(n_allele+1)\n",
    "    picks = np.zeros(5).astype(int)\n",
    "    rands = np.random.random(10**6)\n",
    "    rands1 =np.random.random(10**6)\n",
    "    \n",
    "    for t in range(n_gen):\n",
    "        for dt in range(K):\n",
    "            \n",
    "            L_1 = L_0\n",
    "            L_1[::2][:-1]=L[1::2]\n",
    "            L_1[1::2]= L[0::2][:-1]\n",
    "\n",
    "            for deme in range(len(L_1)):\n",
    "                cells = np.repeat(alleles,L_1[deme])\n",
    "                np.random.shuffle(cells)\n",
    "                swap = P[cells[:int(K/2)],cells[int(K/2):]]> np.random.random()\n",
    "                cells[int(K/2):][swap] = cells[:int(K/2)][swap]\n",
    "                np.random.shuffle(cells)\n",
    "                cells[:]\n",
    "                L_1[deme] = np.append(np.bincount(cells),np.zeros(n_allele+1-len(np.bincount(cells))))\n",
    "                for muts in alleles[1:-1]:\n",
    "                    L_1[deme][[muts,muts+1]]+=np.repeat(np.random.poisson(L[deme][muts]*mu),2)*np.array([-1,1])\n",
    "            L= L_1    \n",
    "            \n",
    "\n",
    "            ##track how many demes are to be omitted\n",
    "            if L[0,0]<int(.02*K):\n",
    "                shift = np.where(L[:,0]<int(.02*K))[-1][0]\n",
    "                for i in range(shift):\n",
    "                    L=np.append(L,[L_empty],axis=0)\n",
    "\n",
    "                    ##recenter simulation box\n",
    "\n",
    "                ##save\n",
    "\n",
    "            L_history.append(L)\n",
    "            \n",
    "    return L_history\n",
    "\n",
    "## run simulation until a fixation event occurs (fixation to some threshold 'thresh')\n",
    "\n",
    "def fix_time_spatial(K,landscape,mu,thresh):\n",
    "    n_allele = len(landscape)\n",
    "    func_args = [K,n_allele,mu]\n",
    "    ##initialize probability matrix\n",
    "    P = np.ones((n_allele+1,n_allele+1))\n",
    "    P[0,1:] = 1 - landscape\n",
    "    ##initallize population\n",
    "    L,L_empty = initialize(*func_args)\n",
    "    init_pop = np.sum(L[:,1])\n",
    "    L_history=[L]\n",
    "    #mutant has not yet fixed\n",
    "    fixed=False\n",
    "\n",
    "    t = 0\n",
    "\n",
    "    while not fixed:\n",
    "        # perform on esimulation step\n",
    "        L = update(L,L_empty,P,*func_args)\n",
    "        ## move simulation box\n",
    "        L = recenter(L,L_empty,K)\n",
    "\n",
    "        ##check if beneficial mutant has arised, if it previously didnt exicst\n",
    "        if (np.sum(L[:,-1]) !=0) ==True and muts_arise ==False:\n",
    "            ## record time\n",
    "            arise_time = t\n",
    "        muts_arise = (np.sum(L[:,-1]) !=0)\n",
    "        ## check if fixed\n",
    "        fixed = np.sum(L[:,1:n_allele])<(thresh*init_pop)\n",
    "        t+=1\n",
    "    try:\n",
    "        return L,t, arise_time\n",
    "    except:\n",
    "        return L,t\n",
    "\n",
    "\n",
    "\n",
    "\n",
    "#Run the automaton\n",
    "#Implements cell division. The division rates are based on the experimental data\n",
    "\n",
    "def run_mixed(n_gen,fit_land,  # number of genetaions Fitness landscape (growth rates - should be <<1)\n",
    "                  mut_rate=0.1,  # probability of mutation per generation\n",
    "                  max_cells=10**5,  # Max number of cells \n",
    "                  init_counts=None,\n",
    "                  thresh = .02\n",
    "                  ):\n",
    "    \n",
    "    # Obtain transition matrix for mutations\n",
    "\n",
    "    # Number of different alleles\n",
    "    n_allele = len(fit_land)\n",
    "    # Keeps track of cell counts at each generation\n",
    "    \n",
    "    P = np.ones((n_allele+1,n_allele+1))\n",
    "    P[0,1:] = 1 - fit_land\n",
    "\n",
    "    if init_counts is None:\n",
    "        counts = np.zeros(n_allele+1)\n",
    "        counts[1] = 10\n",
    "    else:\n",
    "        counts = init_counts\n",
    "    counts= counts.astype(int)\n",
    "    fixed = False\n",
    "    t = 0\n",
    "    count_history = []\n",
    "    for gen in range(n_gen):\n",
    "\n",
    "        n_cells = np.sum( counts )\n",
    "\n",
    "        # Scale division rates based on carrying capacity\n",
    "\n",
    "        cell_types =  np.repeat(np.arange(n_allele+1),counts)\n",
    "        cell_types = duplication(cell_types,max_cells,P)\n",
    "        cell_types = mutation(cell_types,mut_rate,max_cells,n_allele)\n",
    "        counts = np.bincount(cell_types, minlength=n_allele+1)\n",
    "\n",
    "\n",
    "        count_history.append(counts)\n",
    "    return count_history\n",
    "#Run the automaton\n",
    "#Implements cell division. The division rates are based on the experimental data\n",
    "\n",
    "def fix_time_mixed(fit_land,  # Fitness landscape\n",
    "                  mut_rate=0.1,  # probability of mutation per generation\n",
    "                  max_cells=10**5,  # Max number of cells \n",
    "                  init_counts=None,\n",
    "                  thresh = .9\n",
    "                  ):\n",
    "\n",
    "    # Obtain transition matrix for mutations\n",
    "\n",
    "    # Number of different alleles\n",
    "    n_allele = len(fit_land)\n",
    "    # Keeps track of cell counts at each generation\n",
    "    \n",
    "    P = np.ones((n_allele+1,n_allele+1))\n",
    "    P[0,1:] = 1 - fit_land\n",
    "\n",
    "    if init_counts is None:\n",
    "        counts = np.zeros(n_allele+1)\n",
    "        counts[1] = 10\n",
    "    else:\n",
    "        if sum(init_counts) !=max_cells:\n",
    "            raise 'sum of initial counts must be equal to carrying capactiy'\n",
    "        counts = init_counts\n",
    "    counts= counts.astype(int)\n",
    "    fixed = False\n",
    "    t = 0\n",
    "    muts= 0\n",
    "    muts_arise =False\n",
    "    while not fixed:\n",
    "\n",
    "        n_cells = np.sum( counts )\n",
    "\n",
    "        # Scale division rates based on carrying capacity\n",
    "            \n",
    "        cell_types =  np.repeat(np.arange(n_allele+1),counts)\n",
    "        cell_types = duplication(cell_types,max_cells,P)\n",
    "        cell_types = mutation(cell_types,mut_rate,max_cells,n_allele)\n",
    "        counts = np.bincount(cell_types, minlength=n_allele+1)\n",
    "       \n",
    "\n",
    "        t+=1\n",
    "        if (counts[-1] !=0) ==True and muts_arise ==False:\n",
    "            arise_time = t\n",
    "        muts_arise = (counts[-1] !=0)\n",
    "        fixed = counts[-1]> (thresh*max_cells)\n",
    "    return counts, t,arise_time\n",
    "\n",
    "    \n"
   ]
  },
  {
   "cell_type": "code",
   "execution_count": 477,
   "metadata": {},
   "outputs": [],
   "source": [
    "L_1 =L\n"
   ]
  },
  {
   "cell_type": "code",
   "execution_count": 478,
   "metadata": {},
   "outputs": [],
   "source": [
    "L_1[0::2][:-1]=L[1::2]\n",
    "L_1[1::2]= L[0::2][:-1]"
   ]
  },
  {
   "cell_type": "code",
   "execution_count": 482,
   "metadata": {},
   "outputs": [
    {
     "data": {
      "text/plain": [
       "[<matplotlib.lines.Line2D at 0x1523f84748>,\n",
       " <matplotlib.lines.Line2D at 0x1523f84898>,\n",
       " <matplotlib.lines.Line2D at 0x1523f849e8>,\n",
       " <matplotlib.lines.Line2D at 0x1523f84b38>]"
      ]
     },
     "execution_count": 482,
     "metadata": {},
     "output_type": "execute_result"
    },
    {
     "data": {
      "image/png": "[encoded data removed]",
      "text/plain": [
       "<Figure size 432x288 with 1 Axes>"
      ]
     },
     "metadata": {
      "needs_background": "light"
     },
     "output_type": "display_data"
    }
   ],
   "source": [
    "plt.plot(L_1)"
   ]
  },
  {
   "cell_type": "code",
   "execution_count": 483,
   "metadata": {},
   "outputs": [
    {
     "data": {
      "text/plain": [
       "array([0, 1, 1, 1, 1, 1, 1, 1, 1, 1, 1, 1, 1, 1, 1, 1, 1, 1, 0, 1, 1, 1,\n",
       "       1, 1, 1, 1, 1, 1, 1, 1, 1, 1, 1, 1, 1, 0, 1, 1, 1, 1, 1, 1, 1, 0,\n",
       "       1, 1, 1, 1, 1, 1])"
      ]
     },
     "execution_count": 483,
     "metadata": {},
     "output_type": "execute_result"
    }
   ],
   "source": [
    "cells[:int(K/2)]"
   ]
  },
  {
   "cell_type": "code",
   "execution_count": 480,
   "metadata": {},
   "outputs": [
    {
     "data": {
      "text/plain": [
       "array([1, 1, 1, 1, 1, 1, 1, 1, 1, 1, 1, 1, 1, 1, 1, 1, 1, 1, 1, 0, 1, 2,\n",
       "       1, 1, 1, 1, 1, 1, 1, 1, 1, 1, 1, 1, 1, 1, 1, 1, 1, 1, 1, 1, 1, 1,\n",
       "       1, 1, 1, 1, 1, 1])"
      ]
     },
     "execution_count": 480,
     "metadata": {},
     "output_type": "execute_result"
    }
   ],
   "source": [
    "cells[:int(K/2)]"
   ]
  },
  {
   "cell_type": "code",
   "execution_count": 481,
   "metadata": {},
   "outputs": [
    {
     "ename": "IndexError",
     "evalue": "boolean index did not match indexed array along dimension 0; dimension is 51 but corresponding boolean dimension is 50",
     "output_type": "error",
     "traceback": [
      "\u001b[0;31m---------------------------------------------------------------------------\u001b[0m",
      "\u001b[0;31mIndexError\u001b[0m                                Traceback (most recent call last)",
      "\u001b[0;32m<ipython-input-481-052b136e335e>\u001b[0m in \u001b[0;36m<module>\u001b[0;34m()\u001b[0m\n\u001b[1;32m      4\u001b[0m     \u001b[0mnp\u001b[0m\u001b[0;34m.\u001b[0m\u001b[0mrandom\u001b[0m\u001b[0;34m.\u001b[0m\u001b[0mshuffle\u001b[0m\u001b[0;34m(\u001b[0m\u001b[0mcells\u001b[0m\u001b[0;34m)\u001b[0m\u001b[0;34m\u001b[0m\u001b[0;34m\u001b[0m\u001b[0m\n\u001b[1;32m      5\u001b[0m     \u001b[0mswap\u001b[0m \u001b[0;34m=\u001b[0m \u001b[0mP\u001b[0m\u001b[0;34m[\u001b[0m\u001b[0mcells\u001b[0m\u001b[0;34m[\u001b[0m\u001b[0;34m:\u001b[0m\u001b[0mint\u001b[0m\u001b[0;34m(\u001b[0m\u001b[0mK\u001b[0m\u001b[0;34m/\u001b[0m\u001b[0;36m2\u001b[0m\u001b[0;34m)\u001b[0m\u001b[0;34m]\u001b[0m\u001b[0;34m,\u001b[0m\u001b[0mcells\u001b[0m\u001b[0;34m[\u001b[0m\u001b[0mint\u001b[0m\u001b[0;34m(\u001b[0m\u001b[0mK\u001b[0m\u001b[0;34m/\u001b[0m\u001b[0;36m2\u001b[0m\u001b[0;34m)\u001b[0m\u001b[0;34m:\u001b[0m\u001b[0mK\u001b[0m\u001b[0;34m]\u001b[0m\u001b[0;34m]\u001b[0m\u001b[0;34m>\u001b[0m \u001b[0mnp\u001b[0m\u001b[0;34m.\u001b[0m\u001b[0mrandom\u001b[0m\u001b[0;34m.\u001b[0m\u001b[0mrandom\u001b[0m\u001b[0;34m(\u001b[0m\u001b[0;34m)\u001b[0m\u001b[0;34m\u001b[0m\u001b[0;34m\u001b[0m\u001b[0m\n\u001b[0;32m----> 6\u001b[0;31m     \u001b[0mcells\u001b[0m\u001b[0;34m[\u001b[0m\u001b[0mint\u001b[0m\u001b[0;34m(\u001b[0m\u001b[0mK\u001b[0m\u001b[0;34m/\u001b[0m\u001b[0;36m2\u001b[0m\u001b[0;34m)\u001b[0m\u001b[0;34m:\u001b[0m\u001b[0;34m]\u001b[0m\u001b[0;34m[\u001b[0m\u001b[0mswap\u001b[0m\u001b[0;34m]\u001b[0m \u001b[0;34m=\u001b[0m \u001b[0mcells\u001b[0m\u001b[0;34m[\u001b[0m\u001b[0;34m:\u001b[0m\u001b[0mint\u001b[0m\u001b[0;34m(\u001b[0m\u001b[0mK\u001b[0m\u001b[0;34m/\u001b[0m\u001b[0;36m2\u001b[0m\u001b[0;34m)\u001b[0m\u001b[0;34m]\u001b[0m\u001b[0;34m[\u001b[0m\u001b[0mswap\u001b[0m\u001b[0;34m]\u001b[0m\u001b[0;34m\u001b[0m\u001b[0;34m\u001b[0m\u001b[0m\n\u001b[0m\u001b[1;32m      7\u001b[0m     \u001b[0mnp\u001b[0m\u001b[0;34m.\u001b[0m\u001b[0mrandom\u001b[0m\u001b[0;34m.\u001b[0m\u001b[0mshuffle\u001b[0m\u001b[0;34m(\u001b[0m\u001b[0mcells\u001b[0m\u001b[0;34m)\u001b[0m\u001b[0;34m\u001b[0m\u001b[0;34m\u001b[0m\u001b[0m\n\u001b[1;32m      8\u001b[0m     \u001b[0mcells\u001b[0m\u001b[0;34m[\u001b[0m\u001b[0;34m:\u001b[0m\u001b[0;34m]\u001b[0m\u001b[0;34m\u001b[0m\u001b[0;34m\u001b[0m\u001b[0m\n",
      "\u001b[0;31mIndexError\u001b[0m: boolean index did not match indexed array along dimension 0; dimension is 51 but corresponding boolean dimension is 50"
     ]
    }
   ],
   "source": [
    "alleles=np.arange(n_allele+1)\n",
    "for deme in range(len(L_1)):\n",
    "    cells = np.repeat(alleles,L_1[deme])\n",
    "    np.random.shuffle(cells)\n",
    "    swap = P[cells[:int(K/2)],cells[int(K/2):K]]> np.random.random()\n",
    "    cells[int(K/2):][swap] = cells[:int(K/2)][swap]\n",
    "    np.random.shuffle(cells)\n",
    "    cells[:]\n",
    "    L_1[deme] = np.append(np.bincount(cells),np.zeros(n_allele+1-len(np.bincount(cells))))\n",
    "    for muts in alleles[1:-1]:\n",
    "        mut_cells = np.random.poisson(L[deme][muts]*mu)\n",
    "        L_1[deme][[muts,muts+1]]+=np.repeat(np.random.poisson(L[deme][muts]*mu),2)*np.array([-1,1])\n",
    "L= L_1 "
   ]
  },
  {
   "cell_type": "code",
   "execution_count": 459,
   "metadata": {},
   "outputs": [],
   "source": [
    "L_1[deme][[muts,muts+1]]+=np.repeat(np.random.poisson(L[deme][muts]*mu),2)*np.array([-1,1])"
   ]
  },
  {
   "cell_type": "code",
   "execution_count": 338,
   "metadata": {},
   "outputs": [
    {
     "data": {
      "text/plain": [
       "array([16., 84.,  0.,  0.])"
      ]
     },
     "execution_count": 338,
     "metadata": {},
     "output_type": "execute_result"
    }
   ],
   "source": [
    "np.append(np.bincount(cells),np.zeros(n_allele+1-len(np.bincount(cells))))"
   ]
  },
  {
   "cell_type": "code",
   "execution_count": 326,
   "metadata": {},
   "outputs": [],
   "source": [
    "P = np.ones((n_allele+1,n_allele+1))\n",
    "P[0,1:] = 1 - landscape"
   ]
  },
  {
   "cell_type": "code",
   "execution_count": 327,
   "metadata": {},
   "outputs": [],
   "source": [
    "hi = P[cells[:50],cells[50:]]> random.random()"
   ]
  },
  {
   "cell_type": "code",
   "execution_count": 328,
   "metadata": {},
   "outputs": [],
   "source": [
    "cells[50:][hi] = cells[:50][hi]"
   ]
  },
  {
   "cell_type": "code",
   "execution_count": 332,
   "metadata": {},
   "outputs": [
    {
     "data": {
      "text/plain": [
       "array([16, 84])"
      ]
     },
     "execution_count": 332,
     "metadata": {},
     "output_type": "execute_result"
    }
   ],
   "source": [
    "np.bincount(cells)\n"
   ]
  },
  {
   "cell_type": "code",
   "execution_count": 295,
   "metadata": {},
   "outputs": [
    {
     "data": {
      "text/plain": [
       "0.7513913338432221"
      ]
     },
     "execution_count": 295,
     "metadata": {},
     "output_type": "execute_result"
    }
   ],
   "source": [
    "np.random.random()"
   ]
  },
  {
   "cell_type": "code",
   "execution_count": 273,
   "metadata": {},
   "outputs": [
    {
     "data": {
      "text/plain": [
       "array([0, 1, 1, 1, 1, 1, 0, 1, 1, 0, 1, 1, 1, 1, 1, 1, 1, 0, 1, 1, 0, 1,\n",
       "       0, 1, 1, 1, 0, 0, 1, 1, 1, 1, 1, 1, 1, 1, 1, 0, 1, 1, 1, 1, 1, 1,\n",
       "       1, 1, 1, 0, 1, 1])"
      ]
     },
     "execution_count": 273,
     "metadata": {},
     "output_type": "execute_result"
    }
   ],
   "source": [
    "picks = np.random.choice(cells,50)\n",
    "picks"
   ]
  },
  {
   "cell_type": "code",
   "execution_count": 290,
   "metadata": {},
   "outputs": [
    {
     "data": {
      "text/plain": [
       "array([18, 82])"
      ]
     },
     "execution_count": 290,
     "metadata": {},
     "output_type": "execute_result"
    }
   ],
   "source": [
    "np.bincount(cells)"
   ]
  },
  {
   "cell_type": "code",
   "execution_count": 256,
   "metadata": {},
   "outputs": [
    {
     "data": {
      "text/plain": [
       "array([[0.  , 1.  , 0.  , 0.  ],\n",
       "       [0.02, 0.98, 0.  , 0.  ],\n",
       "       [0.03, 0.97, 0.  , 0.  ],\n",
       "       [0.04, 0.96, 0.  , 0.  ],\n",
       "       [0.05, 0.95, 0.  , 0.  ],\n",
       "       [0.06, 0.94, 0.  , 0.  ],\n",
       "       [0.08, 0.92, 0.  , 0.  ],\n",
       "       [0.09, 0.91, 0.  , 0.  ],\n",
       "       [0.12, 0.88, 0.  , 0.  ],\n",
       "       [0.15, 0.85, 0.  , 0.  ],\n",
       "       [0.18, 0.82, 0.  , 0.  ],\n",
       "       [0.22, 0.78, 0.  , 0.  ],\n",
       "       [0.27, 0.73, 0.  , 0.  ],\n",
       "       [0.32, 0.68, 0.  , 0.  ],\n",
       "       [0.39, 0.61, 0.  , 0.  ],\n",
       "       [0.45, 0.55, 0.  , 0.  ],\n",
       "       [0.52, 0.48, 0.  , 0.  ],\n",
       "       [0.6 , 0.4 , 0.  , 0.  ],\n",
       "       [0.67, 0.33, 0.  , 0.  ],\n",
       "       [0.74, 0.26, 0.  , 0.  ],\n",
       "       [0.8 , 0.2 , 0.  , 0.  ],\n",
       "       [0.85, 0.15, 0.  , 0.  ],\n",
       "       [0.89, 0.11, 0.  , 0.  ],\n",
       "       [0.92, 0.08, 0.  , 0.  ],\n",
       "       [0.95, 0.05, 0.  , 0.  ],\n",
       "       [0.97, 0.03, 0.  , 0.  ],\n",
       "       [0.98, 0.02, 0.  , 0.  ],\n",
       "       [1.  , 0.  , 0.  , 0.  ],\n",
       "       [1.  , 0.  , 0.  , 0.  ],\n",
       "       [1.  , 0.  , 0.  , 0.  ],\n",
       "       [1.  , 0.  , 0.  , 0.  ],\n",
       "       [1.  , 0.  , 0.  , 0.  ],\n",
       "       [1.  , 0.  , 0.  , 0.  ],\n",
       "       [1.  , 0.  , 0.  , 0.  ],\n",
       "       [1.  , 0.  , 0.  , 0.  ],\n",
       "       [1.  , 0.  , 0.  , 0.  ],\n",
       "       [1.  , 0.  , 0.  , 0.  ],\n",
       "       [1.  , 0.  , 0.  , 0.  ],\n",
       "       [1.  , 0.  , 0.  , 0.  ],\n",
       "       [1.  , 0.  , 0.  , 0.  ],\n",
       "       [1.  , 0.  , 0.  , 0.  ],\n",
       "       [1.  , 0.  , 0.  , 0.  ],\n",
       "       [1.  , 0.  , 0.  , 0.  ],\n",
       "       [1.  , 0.  , 0.  , 0.  ],\n",
       "       [1.  , 0.  , 0.  , 0.  ],\n",
       "       [1.  , 0.  , 0.  , 0.  ],\n",
       "       [1.  , 0.  , 0.  , 0.  ],\n",
       "       [1.  , 0.  , 0.  , 0.  ],\n",
       "       [1.  , 0.  , 0.  , 0.  ],\n",
       "       [1.  , 0.  , 0.  , 0.  ],\n",
       "       [1.  , 0.  , 0.  , 0.  ],\n",
       "       [1.  , 0.  , 0.  , 0.  ],\n",
       "       [1.  , 0.  , 0.  , 0.  ],\n",
       "       [1.  , 0.  , 0.  , 0.  ],\n",
       "       [1.  , 0.  , 0.  , 0.  ],\n",
       "       [1.  , 0.  , 0.  , 0.  ],\n",
       "       [1.  , 0.  , 0.  , 0.  ],\n",
       "       [1.  , 0.  , 0.  , 0.  ],\n",
       "       [1.  , 0.  , 0.  , 0.  ],\n",
       "       [1.  , 0.  , 0.  , 0.  ],\n",
       "       [1.  , 0.  , 0.  , 0.  ],\n",
       "       [1.  , 0.  , 0.  , 0.  ],\n",
       "       [1.  , 0.  , 0.  , 0.  ],\n",
       "       [1.  , 0.  , 0.  , 0.  ],\n",
       "       [1.  , 0.  , 0.  , 0.  ],\n",
       "       [1.  , 0.  , 0.  , 0.  ],\n",
       "       [1.  , 0.  , 0.  , 0.  ],\n",
       "       [1.  , 0.  , 0.  , 0.  ],\n",
       "       [1.  , 0.  , 0.  , 0.  ],\n",
       "       [1.  , 0.  , 0.  , 0.  ],\n",
       "       [1.  , 0.  , 0.  , 0.  ],\n",
       "       [1.  , 0.  , 0.  , 0.  ],\n",
       "       [1.  , 0.  , 0.  , 0.  ],\n",
       "       [1.  , 0.  , 0.  , 0.  ],\n",
       "       [1.  , 0.  , 0.  , 0.  ],\n",
       "       [1.  , 0.  , 0.  , 0.  ],\n",
       "       [1.  , 0.  , 0.  , 0.  ],\n",
       "       [1.  , 0.  , 0.  , 0.  ],\n",
       "       [1.  , 0.  , 0.  , 0.  ],\n",
       "       [1.  , 0.  , 0.  , 0.  ],\n",
       "       [1.  , 0.  , 0.  , 0.  ],\n",
       "       [1.  , 0.  , 0.  , 0.  ],\n",
       "       [1.  , 0.  , 0.  , 0.  ],\n",
       "       [1.  , 0.  , 0.  , 0.  ],\n",
       "       [1.  , 0.  , 0.  , 0.  ],\n",
       "       [1.  , 0.  , 0.  , 0.  ],\n",
       "       [1.  , 0.  , 0.  , 0.  ],\n",
       "       [1.  , 0.  , 0.  , 0.  ],\n",
       "       [1.  , 0.  , 0.  , 0.  ],\n",
       "       [1.  , 0.  , 0.  , 0.  ],\n",
       "       [1.  , 0.  , 0.  , 0.  ],\n",
       "       [1.  , 0.  , 0.  , 0.  ],\n",
       "       [1.  , 0.  , 0.  , 0.  ],\n",
       "       [1.  , 0.  , 0.  , 0.  ],\n",
       "       [1.  , 0.  , 0.  , 0.  ],\n",
       "       [1.  , 0.  , 0.  , 0.  ],\n",
       "       [1.  , 0.  , 0.  , 0.  ],\n",
       "       [1.  , 0.  , 0.  , 0.  ],\n",
       "       [1.  , 0.  , 0.  , 0.  ],\n",
       "       [1.  , 0.  , 0.  , 0.  ],\n",
       "       [1.  , 0.  , 0.  , 0.  ],\n",
       "       [1.  , 0.  , 0.  , 0.  ],\n",
       "       [1.  , 0.  , 0.  , 0.  ],\n",
       "       [1.  , 0.  , 0.  , 0.  ],\n",
       "       [1.  , 0.  , 0.  , 0.  ],\n",
       "       [1.  , 0.  , 0.  , 0.  ],\n",
       "       [1.  , 0.  , 0.  , 0.  ],\n",
       "       [1.  , 0.  , 0.  , 0.  ],\n",
       "       [1.  , 0.  , 0.  , 0.  ],\n",
       "       [1.  , 0.  , 0.  , 0.  ],\n",
       "       [1.  , 0.  , 0.  , 0.  ],\n",
       "       [1.  , 0.  , 0.  , 0.  ],\n",
       "       [1.  , 0.  , 0.  , 0.  ],\n",
       "       [1.  , 0.  , 0.  , 0.  ],\n",
       "       [1.  , 0.  , 0.  , 0.  ],\n",
       "       [1.  , 0.  , 0.  , 0.  ],\n",
       "       [1.  , 0.  , 0.  , 0.  ],\n",
       "       [1.  , 0.  , 0.  , 0.  ],\n",
       "       [1.  , 0.  , 0.  , 0.  ],\n",
       "       [1.  , 0.  , 0.  , 0.  ],\n",
       "       [1.  , 0.  , 0.  , 0.  ],\n",
       "       [1.  , 0.  , 0.  , 0.  ],\n",
       "       [1.  , 0.  , 0.  , 0.  ],\n",
       "       [1.  , 0.  , 0.  , 0.  ],\n",
       "       [1.  , 0.  , 0.  , 0.  ],\n",
       "       [1.  , 0.  , 0.  , 0.  ],\n",
       "       [1.  , 0.  , 0.  , 0.  ],\n",
       "       [1.  , 0.  , 0.  , 0.  ],\n",
       "       [1.  , 0.  , 0.  , 0.  ],\n",
       "       [1.  , 0.  , 0.  , 0.  ],\n",
       "       [1.  , 0.  , 0.  , 0.  ],\n",
       "       [1.  , 0.  , 0.  , 0.  ],\n",
       "       [1.  , 0.  , 0.  , 0.  ],\n",
       "       [1.  , 0.  , 0.  , 0.  ],\n",
       "       [1.  , 0.  , 0.  , 0.  ],\n",
       "       [1.  , 0.  , 0.  , 0.  ],\n",
       "       [1.  , 0.  , 0.  , 0.  ],\n",
       "       [1.  , 0.  , 0.  , 0.  ],\n",
       "       [1.  , 0.  , 0.  , 0.  ],\n",
       "       [1.  , 0.  , 0.  , 0.  ],\n",
       "       [1.  , 0.  , 0.  , 0.  ],\n",
       "       [1.  , 0.  , 0.  , 0.  ],\n",
       "       [1.  , 0.  , 0.  , 0.  ],\n",
       "       [1.  , 0.  , 0.  , 0.  ],\n",
       "       [1.  , 0.  , 0.  , 0.  ],\n",
       "       [1.  , 0.  , 0.  , 0.  ],\n",
       "       [1.  , 0.  , 0.  , 0.  ],\n",
       "       [1.  , 0.  , 0.  , 0.  ],\n",
       "       [1.  , 0.  , 0.  , 0.  ],\n",
       "       [1.  , 0.  , 0.  , 0.  ],\n",
       "       [1.  , 0.  , 0.  , 0.  ],\n",
       "       [1.  , 0.  , 0.  , 0.  ],\n",
       "       [1.  , 0.  , 0.  , 0.  ],\n",
       "       [1.  , 0.  , 0.  , 0.  ],\n",
       "       [1.  , 0.  , 0.  , 0.  ],\n",
       "       [1.  , 0.  , 0.  , 0.  ],\n",
       "       [1.  , 0.  , 0.  , 0.  ],\n",
       "       [1.  , 0.  , 0.  , 0.  ],\n",
       "       [1.  , 0.  , 0.  , 0.  ],\n",
       "       [1.  , 0.  , 0.  , 0.  ],\n",
       "       [1.  , 0.  , 0.  , 0.  ],\n",
       "       [1.  , 0.  , 0.  , 0.  ],\n",
       "       [1.  , 0.  , 0.  , 0.  ],\n",
       "       [1.  , 0.  , 0.  , 0.  ],\n",
       "       [1.  , 0.  , 0.  , 0.  ],\n",
       "       [1.  , 0.  , 0.  , 0.  ],\n",
       "       [1.  , 0.  , 0.  , 0.  ]])"
      ]
     },
     "execution_count": 256,
     "metadata": {},
     "output_type": "execute_result"
    }
   ],
   "source": [
    "for i in L:\n",
    "    cells = np.repeat(np.arange(4),L[0])\n",
    "    \n",
    "    np.repeat(L[i])"
   ]
  },
  {
   "cell_type": "code",
   "execution_count": 158,
   "metadata": {},
   "outputs": [],
   "source": [
    "L= initialize(K,n_allele,mu)[0]\n",
    "L_1=np.zeros(L.shape)"
   ]
  },
  {
   "cell_type": "code",
   "execution_count": 159,
   "metadata": {},
   "outputs": [],
   "source": [
    "L_1[::2][:-1]=L[1::2]\n",
    "L_1[1::2]= L[0::2][:-1]"
   ]
  },
  {
   "cell_type": "code",
   "execution_count": 218,
   "metadata": {},
   "outputs": [],
   "source": [
    "\n",
    "hi = np.repeat([np.arange(4)],len(L),axis=0)\n"
   ]
  },
  {
   "cell_type": "code",
   "execution_count": 84,
   "metadata": {},
   "outputs": [],
   "source": [
    "hi= np.zeros((100,100))"
   ]
  },
  {
   "cell_type": "code",
   "execution_count": 243,
   "metadata": {},
   "outputs": [
    {
     "ename": "ValueError",
     "evalue": "object too deep for desired array",
     "output_type": "error",
     "traceback": [
      "\u001b[0;31m---------------------------------------------------------------------------\u001b[0m",
      "\u001b[0;31mValueError\u001b[0m                                Traceback (most recent call last)",
      "\u001b[0;32m<ipython-input-243-3dcdef0acc35>\u001b[0m in \u001b[0;36m<module>\u001b[0;34m()\u001b[0m\n\u001b[0;32m----> 1\u001b[0;31m \u001b[0mnp\u001b[0m\u001b[0;34m.\u001b[0m\u001b[0mrepeat\u001b[0m\u001b[0;34m(\u001b[0m\u001b[0mnp\u001b[0m\u001b[0;34m.\u001b[0m\u001b[0marange\u001b[0m\u001b[0;34m(\u001b[0m\u001b[0;36m4\u001b[0m\u001b[0;34m)\u001b[0m\u001b[0;34m,\u001b[0m\u001b[0mL\u001b[0m\u001b[0;34m,\u001b[0m\u001b[0maxis\u001b[0m\u001b[0;34m=\u001b[0m\u001b[0;36m0\u001b[0m\u001b[0;34m)\u001b[0m\u001b[0;34m\u001b[0m\u001b[0;34m\u001b[0m\u001b[0m\n\u001b[0m",
      "\u001b[0;32m~/anaconda3/lib/python3.7/site-packages/numpy/core/fromnumeric.py\u001b[0m in \u001b[0;36mrepeat\u001b[0;34m(a, repeats, axis)\u001b[0m\n\u001b[1;32m    443\u001b[0m \u001b[0;34m\u001b[0m\u001b[0m\n\u001b[1;32m    444\u001b[0m     \"\"\"\n\u001b[0;32m--> 445\u001b[0;31m     \u001b[0;32mreturn\u001b[0m \u001b[0m_wrapfunc\u001b[0m\u001b[0;34m(\u001b[0m\u001b[0ma\u001b[0m\u001b[0;34m,\u001b[0m \u001b[0;34m'repeat'\u001b[0m\u001b[0;34m,\u001b[0m \u001b[0mrepeats\u001b[0m\u001b[0;34m,\u001b[0m \u001b[0maxis\u001b[0m\u001b[0;34m=\u001b[0m\u001b[0maxis\u001b[0m\u001b[0;34m)\u001b[0m\u001b[0;34m\u001b[0m\u001b[0;34m\u001b[0m\u001b[0m\n\u001b[0m\u001b[1;32m    446\u001b[0m \u001b[0;34m\u001b[0m\u001b[0m\n\u001b[1;32m    447\u001b[0m \u001b[0;34m\u001b[0m\u001b[0m\n",
      "\u001b[0;32m~/anaconda3/lib/python3.7/site-packages/numpy/core/fromnumeric.py\u001b[0m in \u001b[0;36m_wrapfunc\u001b[0;34m(obj, method, *args, **kwds)\u001b[0m\n\u001b[1;32m     49\u001b[0m \u001b[0;32mdef\u001b[0m \u001b[0m_wrapfunc\u001b[0m\u001b[0;34m(\u001b[0m\u001b[0mobj\u001b[0m\u001b[0;34m,\u001b[0m \u001b[0mmethod\u001b[0m\u001b[0;34m,\u001b[0m \u001b[0;34m*\u001b[0m\u001b[0margs\u001b[0m\u001b[0;34m,\u001b[0m \u001b[0;34m**\u001b[0m\u001b[0mkwds\u001b[0m\u001b[0;34m)\u001b[0m\u001b[0;34m:\u001b[0m\u001b[0;34m\u001b[0m\u001b[0;34m\u001b[0m\u001b[0m\n\u001b[1;32m     50\u001b[0m     \u001b[0;32mtry\u001b[0m\u001b[0;34m:\u001b[0m\u001b[0;34m\u001b[0m\u001b[0;34m\u001b[0m\u001b[0m\n\u001b[0;32m---> 51\u001b[0;31m         \u001b[0;32mreturn\u001b[0m \u001b[0mgetattr\u001b[0m\u001b[0;34m(\u001b[0m\u001b[0mobj\u001b[0m\u001b[0;34m,\u001b[0m \u001b[0mmethod\u001b[0m\u001b[0;34m)\u001b[0m\u001b[0;34m(\u001b[0m\u001b[0;34m*\u001b[0m\u001b[0margs\u001b[0m\u001b[0;34m,\u001b[0m \u001b[0;34m**\u001b[0m\u001b[0mkwds\u001b[0m\u001b[0;34m)\u001b[0m\u001b[0;34m\u001b[0m\u001b[0;34m\u001b[0m\u001b[0m\n\u001b[0m\u001b[1;32m     52\u001b[0m \u001b[0;34m\u001b[0m\u001b[0m\n\u001b[1;32m     53\u001b[0m     \u001b[0;31m# An AttributeError occurs if the object does not have\u001b[0m\u001b[0;34m\u001b[0m\u001b[0;34m\u001b[0m\u001b[0;34m\u001b[0m\u001b[0m\n",
      "\u001b[0;31mValueError\u001b[0m: object too deep for desired array"
     ]
    }
   ],
   "source": [
    "np.repeat(np.arange(4),L,axis=0)"
   ]
  },
  {
   "cell_type": "code",
   "execution_count": 233,
   "metadata": {},
   "outputs": [
    {
     "data": {
      "text/plain": [
       "(0, 1, 2, 3)"
      ]
     },
     "execution_count": 233,
     "metadata": {},
     "output_type": "execute_result"
    }
   ],
   "source": [
    "tuple(np.arange(4))"
   ]
  },
  {
   "cell_type": "code",
   "execution_count": 71,
   "metadata": {},
   "outputs": [
    {
     "data": {
      "text/plain": [
       "array([1, 3])"
      ]
     },
     "execution_count": 71,
     "metadata": {},
     "output_type": "execute_result"
    }
   ],
   "source": [
    "\n",
    "np.array([hi,bye])-np.array([1,1])"
   ]
  },
  {
   "cell_type": "code",
   "execution_count": 461,
   "metadata": {},
   "outputs": [
    {
     "name": "stdout",
     "output_type": "stream",
     "text": [
      " \n",
      "*** Profile stats marshalled to file '/var/folders/bf/7p_phqf17mn465s07y0y818r0000gn/T/tmpxoaoca4b'. \n",
      "Embedding SnakeViz in the notebook...\n"
     ]
    },
    {
     "data": {
      "text/html": [
       "\n",
       "<iframe id='snakeviz-d39b2032-5b51-11ea-9d82-f018981538e4' frameborder=0 seamless width='100%' height='1000'></iframe>\n",
       "<script>$(\"#snakeviz-d39b2032-5b51-11ea-9d82-f018981538e4\").attr({src:\"http://\"+document.location.hostname+\":57933/snakeviz/%2Fvar%2Ffolders%2Fbf%2F7p_phqf17mn465s07y0y818r0000gn%2FT%2Ftmpxoaoca4b\"})</script>\n"
      ],
      "text/plain": [
       "<IPython.core.display.HTML object>"
      ]
     },
     "metadata": {},
     "output_type": "display_data"
    }
   ],
   "source": [
    "%%snakeviz\n",
    "K=100\n",
    "landscape= np.array([.1,.0999,.11])\n",
    "n_allele  = len(landscape)\n",
    "\n",
    "\n",
    "mu = .001\n",
    "L_trace = run_spatial(1,100,np.array([.1,.0999,.11]),mu)"
   ]
  },
  {
   "cell_type": "code",
   "execution_count": 465,
   "metadata": {},
   "outputs": [
    {
     "data": {
      "text/plain": [
       "[<matplotlib.lines.Line2D at 0x15214c05c0>,\n",
       " <matplotlib.lines.Line2D at 0x15214c04e0>,\n",
       " <matplotlib.lines.Line2D at 0x15214c0240>,\n",
       " <matplotlib.lines.Line2D at 0x15214c0828>]"
      ]
     },
     "execution_count": 465,
     "metadata": {},
     "output_type": "execute_result"
    },
    {
     "data": {
      "image/png": "[encoded data removed]",
      "text/plain": [
       "<Figure size 432x288 with 1 Axes>"
      ]
     },
     "metadata": {
      "needs_background": "light"
     },
     "output_type": "display_data"
    }
   ],
   "source": [
    "plt.plot(L_trace[1])"
   ]
  },
  {
   "cell_type": "code",
   "execution_count": 388,
   "metadata": {},
   "outputs": [
    {
     "data": {
      "text/plain": [
       "50"
      ]
     },
     "execution_count": 388,
     "metadata": {},
     "output_type": "execute_result"
    }
   ],
   "source": [
    "len(cells[:int(K/2)])"
   ]
  },
  {
   "cell_type": "code",
   "execution_count": 391,
   "metadata": {},
   "outputs": [
    {
     "data": {
      "text/plain": [
       "array([1., 1., 1., 1., 1., 1., 1., 1., 1., 1., 1., 1., 1., 1., 1., 1., 1.,\n",
       "       1., 1., 1., 1., 1., 1., 1., 1., 1., 1., 1., 1., 1., 1., 1., 1., 1.,\n",
       "       1., 1., 1., 1., 1., 1., 1., 1., 1., 1., 1., 1., 1., 1., 1., 1.])"
      ]
     },
     "execution_count": 391,
     "metadata": {},
     "output_type": "execute_result"
    }
   ],
   "source": [
    "P[cells[int(K/2):],cells[:int(K/2)]]"
   ]
  },
  {
   "cell_type": "code",
   "execution_count": 2,
   "metadata": {},
   "outputs": [
    {
     "ename": "NameError",
     "evalue": "name 'mu' is not defined",
     "output_type": "error",
     "traceback": [
      "\u001b[0;31m---------------------------------------------------------------------------\u001b[0m",
      "\u001b[0;31mNameError\u001b[0m                                 Traceback (most recent call last)",
      "\u001b[0;32m<ipython-input-2-e789b40ae5f5>\u001b[0m in \u001b[0;36m<module>\u001b[0;34m()\u001b[0m\n\u001b[0;32m----> 1\u001b[0;31m \u001b[0mL_trace\u001b[0m \u001b[0;34m=\u001b[0m \u001b[0mrun_spatial\u001b[0m\u001b[0;34m(\u001b[0m\u001b[0;36m3000\u001b[0m\u001b[0;34m,\u001b[0m\u001b[0;36m100\u001b[0m\u001b[0;34m,\u001b[0m\u001b[0mnp\u001b[0m\u001b[0;34m.\u001b[0m\u001b[0marray\u001b[0m\u001b[0;34m(\u001b[0m\u001b[0;34m[\u001b[0m\u001b[0;36m.1\u001b[0m\u001b[0;34m,\u001b[0m\u001b[0;36m.0999\u001b[0m\u001b[0;34m,\u001b[0m\u001b[0;36m.11\u001b[0m\u001b[0;34m]\u001b[0m\u001b[0;34m)\u001b[0m\u001b[0;34m,\u001b[0m\u001b[0mmu\u001b[0m\u001b[0;34m,\u001b[0m\u001b[0minitialize\u001b[0m\u001b[0;34m(\u001b[0m\u001b[0mK\u001b[0m\u001b[0;34m,\u001b[0m\u001b[0mn_allele\u001b[0m\u001b[0;34m,\u001b[0m\u001b[0mmu\u001b[0m\u001b[0;34m)\u001b[0m\u001b[0;34m[\u001b[0m\u001b[0;36m0\u001b[0m\u001b[0;34m]\u001b[0m\u001b[0;34m)\u001b[0m\u001b[0;34m\u001b[0m\u001b[0;34m\u001b[0m\u001b[0m\n\u001b[0m",
      "\u001b[0;31mNameError\u001b[0m: name 'mu' is not defined"
     ]
    }
   ],
   "source": [
    "L_trace = run_spatial(3000,100,np.array([.1,.0999,.11]),mu,initialize(K,n_allele,mu)[0])"
   ]
  },
  {
   "cell_type": "code",
   "execution_count": 49,
   "metadata": {},
   "outputs": [
    {
     "data": {
      "text/plain": [
       "[<matplotlib.lines.Line2D at 0x15263fb7b8>,\n",
       " <matplotlib.lines.Line2D at 0x15263fbb38>,\n",
       " <matplotlib.lines.Line2D at 0x15263fb6a0>,\n",
       " <matplotlib.lines.Line2D at 0x15263fb630>]"
      ]
     },
     "execution_count": 49,
     "metadata": {},
     "output_type": "execute_result"
    },
    {
     "data": {
      "image/png": "[encoded data removed]",
      "text/plain": [
       "<Figure size 432x288 with 1 Axes>"
      ]
     },
     "metadata": {
      "needs_background": "light"
     },
     "output_type": "display_data"
    }
   ],
   "source": [
    "plt.plot(L_trace)"
   ]
  },
  {
   "cell_type": "code",
   "execution_count": 7,
   "metadata": {},
   "outputs": [],
   "source": [
    "from sim_funcs_1 import*"
   ]
  },
  {
   "cell_type": "code",
   "execution_count": 8,
   "metadata": {},
   "outputs": [],
   "source": [
    "\n",
    "L_trace = run_spatial(5000,100,np.array([.1,.0999,.11]),.1)"
   ]
  },
  {
   "cell_type": "code",
   "execution_count": 9,
   "metadata": {},
   "outputs": [
    {
     "data": {
      "text/plain": [
       "[<matplotlib.lines.Line2D at 0x15253e3f98>,\n",
       " <matplotlib.lines.Line2D at 0x15253ed128>,\n",
       " <matplotlib.lines.Line2D at 0x15253ed278>,\n",
       " <matplotlib.lines.Line2D at 0x15253ed3c8>]"
      ]
     },
     "execution_count": 9,
     "metadata": {},
     "output_type": "execute_result"
    },
    {
     "data": {
      "image/png": "[encoded data removed]",
      "text/plain": [
       "<Figure size 432x288 with 1 Axes>"
      ]
     },
     "metadata": {
      "needs_background": "light"
     },
     "output_type": "display_data"
    }
   ],
   "source": [
    "plt.plot(L_trace[-1])"
   ]
  },
  {
   "cell_type": "code",
   "execution_count": 17,
   "metadata": {},
   "outputs": [],
   "source": [
    "def choice(options,probs):\n",
    "    x = np.random.rand()\n",
    "    cum = 0\n",
    "    for i,p in enumerate(probs):\n",
    "        cum += p\n",
    "        ##sum of probability must be 1\n",
    "        if x < cum:\n",
    "            break\n",
    "    return options[i]\n",
    "\n",
    "def rand_neighbors(n_demes):\n",
    "    ind_1 = np.random.randint(0, n_demes)\n",
    "    if (np.random.random() < .5 and ind_1 != 0) or ind_1 == n_demes - 1:\n",
    "        ind_2 = ind_1 - 1\n",
    "    else:\n",
    "        ind_2 = ind_1 + 1\n",
    "    return np.array([ind_1, ind_2])\n",
    "\n",
    "def run_spatial(n_gen,## nunmber of gnerations\n",
    "    K, ## population size\n",
    "    landscape ## fitness landscape (Growthrates of each genotype (should be <<1))\n",
    "    ,mu):  ## mutation rate\n",
    "\n",
    "    n_allele = len(landscape)\n",
    "\n",
    "    ##initialize probability matrix\n",
    "    stand = odeint(standing_wave,[1,-(2*2**.5)/K],np.arange(70),args=(2*2**.5,1))[:,0]\n",
    "    P = np.ones((n_allele+1,n_allele+1))\n",
    "    P[0,1:] = 1 - landscape\n",
    "    ## cuttoff non integer cell density based off of carry capacity K\n",
    "    w_0 = (K*stand).astype(int)\n",
    "    w_0 = w_0[w_0>1]\n",
    "    \n",
    "    ## subtract wild type cells from carrying capacity to get 'emopty' particle count\n",
    "    L = np.vstack(((K-w_0),w_0)).T\n",
    "    L = np.append(L,np.zeros((len(w_0),n_allele-1)),axis=1)\n",
    "    \n",
    "    ##array strucutre of an empty deme to be added on as needed \n",
    "    L_empty= np.append([K],np.zeros(n_allele,dtype=int))\n",
    "\n",
    "    ## add on some number of empty demes\n",
    "    for i in range(500):\n",
    "        L= np.append(L,[L_empty],axis=0)\n",
    "    L_history=[L]\n",
    "    \n",
    "    #begin evolution\n",
    "    alleles = np.arange(n_allele+1)\n",
    "    picks = np.zeros(5).astype(int)\n",
    "    for t in range(n_gen):\n",
    "        for dt in range(K):\n",
    "            \n",
    "            n_demes = np.where(L[:,0]!=K)[0][-1] +2\n",
    "\n",
    "            #migration\n",
    "            ind_1 = np.random.randint(0, n_demes)\n",
    "            if (np.random.random() < .5 and ind_1 != 0) or ind_1 == n_demes - 1:\n",
    "                ind_2 = ind_1 - 1\n",
    "            else:\n",
    "                ind_2 = ind_1 + 1\n",
    "            neighb = np.array([ind_1, ind_2])\n",
    "            dup_deme, mut_deme = np.random.randint(0,n_demes,2)\n",
    "\n",
    "\n",
    "            #picks = []\n",
    "            for i in range(2):\n",
    "                #picks.append(choice(alleles, L[neighb][i]/K))\n",
    "                picks[i] = choice(alleles, L[neighb][i]/K)\n",
    "                #empty_cnt[i,choice(np.arange(n_allele+1), L[neighb][i]/K)] =int(1)\n",
    "\n",
    "\n",
    "            for i,j in enumerate(range(2)[::-1]):\n",
    "                L[neighb[i],picks[i]] -= 1\n",
    "                L[neighb[i],picks[j]] += 1\n",
    "                \n",
    "\n",
    "\n",
    "            #duplication\n",
    "            for i in range(2,4):\n",
    "                picks[i] = choice(alleles,L[dup_deme]/K)\n",
    "                #picks.append(choice(alleles,L[dup_deme]/K))\n",
    "\n",
    "            ## format chosen cells in terms of cell counts i.e. [empty cell count,...,chosen cell count]\n",
    "\n",
    "\n",
    "            if P[tuple(picks[2:4])] > np.random.random():\n",
    "                L[dup_deme,picks[2]] += 1\n",
    "                L[dup_deme,picks[3]] -= 1\n",
    "\n",
    "\n",
    "\n",
    "            ##mutation\n",
    "            mut_deme = np.random.randint(n_demes)\n",
    "            picks[4] = choice(alleles,L[mut_deme]/K)\n",
    "            #picks.append(choice(alleles,L[mut_deme]/K))\n",
    "            if mu>np.random.random():\n",
    "                #3 only particles that are not empty spaces and are not the 'peak' in the landscape strucutre can mutate\n",
    "                if picks[4] != n_allele and picks[4] != 0:\n",
    "                    ## mutate cell and fromat in terms of cell counts i.e. [empty cell count,...,chosen cell count]\n",
    "\n",
    "                    ##remove original cell and add mutated cell to cell counts\n",
    "                    L[mut_deme,picks[4]] -=1\n",
    "                    L[mut_deme,picks[4]+1] +=1\n",
    "            shift = 0\n",
    "    ##track how many demes are to be omitted\n",
    "            while L[0,0]<int(.02*K):\n",
    "                L=L[1:,:]\n",
    "                shift+=1\n",
    "\n",
    "            #for each dropped deme, add one\n",
    "            for i in range(shift):\n",
    "                L=np.append(L,[L_empty],axis=0)\n",
    "\n",
    "                    ##recenter simulation box\n",
    "\n",
    "                ##save\n",
    "            L_history.append(L)\n",
    "    return L_history"
   ]
  },
  {
   "cell_type": "code",
   "execution_count": 18,
   "metadata": {},
   "outputs": [],
   "source": [
    "\n",
    "L_trace = run_spatial(5000,100,np.array([.1,.0999,.11]),.1)"
   ]
  },
  {
   "cell_type": "code",
   "execution_count": 19,
   "metadata": {},
   "outputs": [
    {
     "data": {
      "text/plain": [
       "array([[ 61.,   0.,   0.,  39.],\n",
       "       [ 52.,   0.,   0.,  48.],\n",
       "       [ 54.,   0.,   0.,  46.],\n",
       "       ...,\n",
       "       [100.,   0.,   0.,   0.],\n",
       "       [100.,   0.,   0.,   0.],\n",
       "       [100.,   0.,   0.,   0.]])"
      ]
     },
     "execution_count": 19,
     "metadata": {},
     "output_type": "execute_result"
    }
   ],
   "source": [
    "L_trace[-1]"
   ]
  },
  {
   "cell_type": "code",
   "execution_count": null,
   "metadata": {},
   "outputs": [],
   "source": []
  }
 ],
 "metadata": {
  "kernelspec": {
   "display_name": "Python 3",
   "language": "python",
   "name": "python3"
  },
  "language_info": {
   "codemirror_mode": {
    "name": "ipython",
    "version": 3
   },
   "file_extension": ".py",
   "mimetype": "text/x-python",
   "name": "python",
   "nbconvert_exporter": "python",
   "pygments_lexer": "ipython3",
   "version": "3.7.2"
  }
 },
 "nbformat": 4,
 "nbformat_minor": 2
}
